{
 "cells": [
  {
   "cell_type": "code",
   "execution_count": 1,
   "id": "1f65a89d-4b0a-457a-8fdb-cd564c8667f2",
   "metadata": {},
   "outputs": [],
   "source": [
    "import pandas as pd"
   ]
  },
  {
   "cell_type": "code",
   "execution_count": 2,
   "id": "e58fdc5e-9280-4ceb-9dea-8e7ce11e7d78",
   "metadata": {},
   "outputs": [],
   "source": [
    "data = pd.read_csv('SurveyRes.csv')"
   ]
  },
  {
   "cell_type": "code",
   "execution_count": 23,
   "id": "58143be3-8d8a-44e6-994d-bd3ad1049988",
   "metadata": {},
   "outputs": [],
   "source": [
    "data['StartDate'] = pd.to_datetime(data['StartDate'], errors='coerce')\n",
    "data = data.rename(columns={'Duration (in seconds)': 'Duration'})\n",
    "data = data.drop(index=[0,1])"
   ]
  },
  {
   "cell_type": "code",
   "execution_count": 69,
   "id": "8b025ad4-7a08-4731-a2e2-3ab71cefb81c",
   "metadata": {},
   "outputs": [],
   "source": [
    "time_columns = ['AmazonTime_Page Submit', 'GlomarMusicTime_Page Submit', 'AmazonMusicTime_Page Submit', 'GlomarTime_Page Submit']\n",
    "survey_columns = ['StartDate','ResponseId', 'DistributionChannel', 'Duration', 'Finished' ]\n",
    "Q_columns = ['AQ1','AQ2','AQ3','AQ4','AMQ1','AMQ2','AMQ3','AMQ4','GQ1','GQ2','GQ3','GQ4','GMQ1','GMQ2','GMQ3','GMQ4']\n",
    "res_info_columns = ['Age', 'RStatus', 'Habit', 'Proficiency', 'Region']\n",
    "df1_drop = ['AQ1','AQ2','AQ3','AQ4','GMQ1','GMQ2','GMQ3','GMQ4','GlomarMusicTime_Page Submit', 'AmazonTime_Page Submit' ]\n",
    "df2_drop = ['AMQ1','AMQ2','AMQ3','AMQ4','GQ1','GQ2','GQ3','GQ4', 'AmazonMusicTime_Page Submit', 'GlomarTime_Page Submit']\n",
    "all_columns = time_columns + survey_columns + Q_columns + res_info_columns"
   ]
  },
  {
   "cell_type": "code",
   "execution_count": 25,
   "id": "7f04e80a-4ed0-4be8-a0b3-6292fa61f84e",
   "metadata": {},
   "outputs": [],
   "source": [
    "data = data[all_columns]"
   ]
  },
  {
   "cell_type": "code",
   "execution_count": 52,
   "id": "f3c50364-ce0a-44ab-b17f-25cb5e0460ed",
   "metadata": {},
   "outputs": [],
   "source": [
    "data = data[data.DistributionChannel == 'anonymous']\n",
    "data = data[data.StartDate > '2024-01-15']\n",
    "data = data[(data.Duration > 360) & (data.Duration < 1800)]\n",
    "data[time_columns] = data[time_columns].apply(pd.to_numeric, errors='coerce')"
   ]
  },
  {
   "cell_type": "code",
   "execution_count": 70,
   "id": "b21fdbd9-6c9e-422a-a557-8e5f28d630d5",
   "metadata": {},
   "outputs": [],
   "source": [
    "df1 = data[data.AMQ1.notna()]\n",
    "df1 = df1[df1['GlomarTime_Page Submit'] > 120]\n",
    "df1 = df1[df1['AmazonMusicTime_Page Submit'] > 60]\n",
    "df1 = df1.drop(columns = df1_drop)\n",
    "df2 = data[data.AMQ1.isna()]\n",
    "df2 = df2[df2['GlomarMusicTime_Page Submit'] > 120]\n",
    "df2 = df2[df2['AmazonTime_Page Submit'] > 60]\n",
    "df2 = df2.drop(columns=df2_drop)"
   ]
  },
  {
   "cell_type": "code",
   "execution_count": 74,
   "id": "241bf514-d4ed-4373-9ff5-202a4bb7a581",
   "metadata": {},
   "outputs": [],
   "source": [
    "df1.to_csv('DF1.csv')"
   ]
  },
  {
   "cell_type": "code",
   "execution_count": 75,
   "id": "0590d7ff-61b8-41b7-924c-b59de0e9e4a2",
   "metadata": {},
   "outputs": [],
   "source": [
    "df2.to_csv('DF2.csv')"
   ]
  },
  {
   "cell_type": "code",
   "execution_count": null,
   "id": "c73f7166-a518-4b8b-a61e-5707dee01d75",
   "metadata": {},
   "outputs": [],
   "source": []
  }
 ],
 "metadata": {
  "kernelspec": {
   "display_name": "Python 3 (ipykernel)",
   "language": "python",
   "name": "python3"
  },
  "language_info": {
   "codemirror_mode": {
    "name": "ipython",
    "version": 3
   },
   "file_extension": ".py",
   "mimetype": "text/x-python",
   "name": "python",
   "nbconvert_exporter": "python",
   "pygments_lexer": "ipython3",
   "version": "3.9.13"
  }
 },
 "nbformat": 4,
 "nbformat_minor": 5
}
